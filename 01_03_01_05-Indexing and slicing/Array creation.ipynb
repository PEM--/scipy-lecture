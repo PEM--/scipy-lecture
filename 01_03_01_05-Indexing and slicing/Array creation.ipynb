{
 "cells": [
  {
   "cell_type": "code",
   "execution_count": 2,
   "metadata": {},
   "outputs": [],
   "source": [
    "import numpy as np"
   ]
  },
  {
   "cell_type": "code",
   "execution_count": 13,
   "metadata": {},
   "outputs": [
    {
     "data": {
      "text/plain": [
       "array([[1, 1, 1, 1],\n",
       "       [1, 1, 1, 1],\n",
       "       [1, 1, 1, 2],\n",
       "       [6, 1, 1, 1]])"
      ]
     },
     "execution_count": 13,
     "metadata": {},
     "output_type": "execute_result"
    }
   ],
   "source": [
    "a = np.ones((4, 4), dtype='int64')\n",
    "a[2,-1] = 2\n",
    "a[3,0] = 6\n",
    "a"
   ]
  },
  {
   "cell_type": "code",
   "execution_count": 14,
   "metadata": {},
   "outputs": [
    {
     "name": "stdout",
     "output_type": "stream",
     "text": [
      "Help on function diag in module numpy.lib.twodim_base:\n",
      "\n",
      "diag(v, k=0)\n",
      "    Extract a diagonal or construct a diagonal array.\n",
      "    \n",
      "    See the more detailed documentation for ``numpy.diagonal`` if you use this\n",
      "    function to extract a diagonal and wish to write to the resulting array;\n",
      "    whether it returns a copy or a view depends on what version of numpy you\n",
      "    are using.\n",
      "    \n",
      "    Parameters\n",
      "    ----------\n",
      "    v : array_like\n",
      "        If `v` is a 2-D array, return a copy of its `k`-th diagonal.\n",
      "        If `v` is a 1-D array, return a 2-D array with `v` on the `k`-th\n",
      "        diagonal.\n",
      "    k : int, optional\n",
      "        Diagonal in question. The default is 0. Use `k>0` for diagonals\n",
      "        above the main diagonal, and `k<0` for diagonals below the main\n",
      "        diagonal.\n",
      "    \n",
      "    Returns\n",
      "    -------\n",
      "    out : ndarray\n",
      "        The extracted diagonal or constructed diagonal array.\n",
      "    \n",
      "    See Also\n",
      "    --------\n",
      "    diagonal : Return specified diagonals.\n",
      "    diagflat : Create a 2-D array with the flattened input as a diagonal.\n",
      "    trace : Sum along diagonals.\n",
      "    triu : Upper triangle of an array.\n",
      "    tril : Lower triangle of an array.\n",
      "    \n",
      "    Examples\n",
      "    --------\n",
      "    >>> x = np.arange(9).reshape((3,3))\n",
      "    >>> x\n",
      "    array([[0, 1, 2],\n",
      "           [3, 4, 5],\n",
      "           [6, 7, 8]])\n",
      "    \n",
      "    >>> np.diag(x)\n",
      "    array([0, 4, 8])\n",
      "    >>> np.diag(x, k=1)\n",
      "    array([1, 5])\n",
      "    >>> np.diag(x, k=-1)\n",
      "    array([3, 7])\n",
      "    \n",
      "    >>> np.diag(np.diag(x))\n",
      "    array([[0, 0, 0],\n",
      "           [0, 4, 0],\n",
      "           [0, 0, 8]])\n",
      "\n"
     ]
    }
   ],
   "source": [
    "help(np.diag)"
   ]
  },
  {
   "cell_type": "code",
   "execution_count": 25,
   "metadata": {},
   "outputs": [
    {
     "data": {
      "text/plain": [
       "array([[0, 0, 0, 0, 0],\n",
       "       [2, 0, 0, 0, 0],\n",
       "       [0, 3, 0, 0, 0],\n",
       "       [0, 0, 4, 0, 0],\n",
       "       [0, 0, 0, 5, 0],\n",
       "       [0, 0, 0, 0, 6]])"
      ]
     },
     "execution_count": 25,
     "metadata": {},
     "output_type": "execute_result"
    }
   ],
   "source": [
    "np.diag(np.arange(1,7), k=0)[:,1:]"
   ]
  }
 ],
 "metadata": {
  "kernelspec": {
   "display_name": "Python 3",
   "language": "python",
   "name": "python3"
  },
  "language_info": {
   "codemirror_mode": {
    "name": "ipython",
    "version": 3
   },
   "file_extension": ".py",
   "mimetype": "text/x-python",
   "name": "python",
   "nbconvert_exporter": "python",
   "pygments_lexer": "ipython3",
   "version": "3.6.5"
  }
 },
 "nbformat": 4,
 "nbformat_minor": 2
}
